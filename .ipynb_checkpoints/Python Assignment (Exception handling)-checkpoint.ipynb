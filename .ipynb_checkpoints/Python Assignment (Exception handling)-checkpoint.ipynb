{
 "cells": [
  {
   "cell_type": "markdown",
   "metadata": {},
   "source": [
    "Q1) Write a function to compute 5/0 and use try/except to catch the exceptions."
   ]
  },
  {
   "cell_type": "code",
   "execution_count": 6,
   "metadata": {},
   "outputs": [
    {
     "name": "stdout",
     "output_type": "stream",
     "text": [
      "The result will be undefined\n"
     ]
    }
   ],
   "source": [
    "def catch(5):\n",
    "    return 5/0\n",
    "try:\n",
    "    divide()\n",
    "except Exception as e:\n",
    "    print(\"The result will be undefined\")\n",
    "except:\n",
    "    print(\"Other exception\")"
   ]
  },
  {
   "cell_type": "markdown",
   "metadata": {},
   "source": [
    "Q3) Implement a Python program to generate all sentences where subject is in\n",
    "[\"Americans\", \"Indians\"] and verb is in [\"Play\", \"watch\"] and the object is in\n",
    "[\"Baseball\",\"cricket\"]."
   ]
  },
  {
   "cell_type": "code",
   "execution_count": 8,
   "metadata": {},
   "outputs": [
    {
     "name": "stdout",
     "output_type": "stream",
     "text": [
      "Americans Play Baseball\n",
      "Americans Play Cricket\n",
      "Americans Watch Baseball\n",
      "Americans Watch Cricket\n",
      "Indians Play Baseball\n",
      "Indians Play Cricket\n",
      "Indians Watch Baseball\n",
      "Indians Watch Cricket\n"
     ]
    }
   ],
   "source": [
    "Subject = ['Americans','Indians']\n",
    "Verb = ['Play','Watch']\n",
    "Object = ['Baseball','Cricket']\n",
    "\n",
    "Sentences = [(S+\" \"+V+\" \"+ O)\n",
    "for S in Subject\n",
    "for V in Verb\n",
    "for O in Object]\n",
    "for Sentence in Sentences:\n",
    "    print(Sentence)"
   ]
  }
 ],
 "metadata": {
  "kernelspec": {
   "display_name": "Python 3",
   "language": "python",
   "name": "python3"
  },
  "language_info": {
   "codemirror_mode": {
    "name": "ipython",
    "version": 3
   },
   "file_extension": ".py",
   "mimetype": "text/x-python",
   "name": "python",
   "nbconvert_exporter": "python",
   "pygments_lexer": "ipython3",
   "version": "3.7.4"
  }
 },
 "nbformat": 4,
 "nbformat_minor": 2
}
